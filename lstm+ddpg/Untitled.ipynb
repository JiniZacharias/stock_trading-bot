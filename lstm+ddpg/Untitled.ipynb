{
 "cells": [
  {
   "cell_type": "code",
   "execution_count": 1,
   "id": "86d29d8d-7f40-4151-888f-2c3e3e310ad8",
   "metadata": {},
   "outputs": [
    {
     "name": "stderr",
     "output_type": "stream",
     "text": [
      "fatal: destination path 'FinRL' already exists and is not an empty directory.\n"
     ]
    }
   ],
   "source": [
    "!git clone https://github.com/AI4Finance-Foundation/FinRL.git\n"
   ]
  },
  {
   "cell_type": "code",
   "execution_count": 3,
   "id": "99d9246b-0e64-46fa-b82a-449f1deb30e0",
   "metadata": {},
   "outputs": [
    {
     "name": "stdout",
     "output_type": "stream",
     "text": [
      "C:\\Users\\aswin\\OneDrive\\Desktop\\lstm+ddpg\\FinRL\n"
     ]
    }
   ],
   "source": [
    "%cd FinRL"
   ]
  },
  {
   "cell_type": "code",
   "execution_count": 5,
   "id": "e8731166-9bb8-4fbd-b23a-35608203b658",
   "metadata": {},
   "outputs": [
    {
     "name": "stdout",
     "output_type": "stream",
     "text": [
      "Looking in indexes: https://pypi.org/simple, https://pypi.ngc.nvidia.com\n",
      "Requirement already satisfied: pip in c:\\users\\aswin\\appdata\\roaming\\python\\python312\\site-packages (25.0.1)\n",
      "Requirement already satisfied: setuptools in c:\\users\\aswin\\appdata\\roaming\\python\\python312\\site-packages (77.0.3)\n",
      "Collecting setuptools\n",
      "  Downloading setuptools-78.1.0-py3-none-any.whl.metadata (6.6 kB)\n",
      "Downloading setuptools-78.1.0-py3-none-any.whl (1.3 MB)\n",
      "   ---------------------------------------- 0.0/1.3 MB ? eta -:--:--\n",
      "   ---------------- ----------------------- 0.5/1.3 MB 3.4 MB/s eta 0:00:01\n",
      "   --------------------------------- ------ 1.0/1.3 MB 2.6 MB/s eta 0:00:01\n",
      "   ---------------------------------------- 1.3/1.3 MB 2.8 MB/s eta 0:00:00\n",
      "Installing collected packages: setuptools\n",
      "  Attempting uninstall: setuptools\n",
      "    Found existing installation: setuptools 77.0.3\n",
      "    Uninstalling setuptools-77.0.3:\n",
      "      Successfully uninstalled setuptools-77.0.3\n",
      "Successfully installed setuptools-75.1.0\n"
     ]
    }
   ],
   "source": [
    "!pip install --upgrade pip setuptools"
   ]
  },
  {
   "cell_type": "code",
   "execution_count": 6,
   "id": "81876e0a-7d2f-478c-b2b1-1429b539ad40",
   "metadata": {},
   "outputs": [
    {
     "name": "stdout",
     "output_type": "stream",
     "text": [
      "Looking in indexes: https://pypi.org/simple, https://pypi.ngc.nvidia.com\n",
      "Collecting ez_setup\n",
      "  Downloading ez_setup-0.9.tar.gz (6.6 kB)\n",
      "  Preparing metadata (setup.py): started\n",
      "  Preparing metadata (setup.py): finished with status 'done'\n",
      "Building wheels for collected packages: ez_setup\n",
      "  Building wheel for ez_setup (setup.py): started\n",
      "  Building wheel for ez_setup (setup.py): finished with status 'done'\n",
      "  Created wheel for ez_setup: filename=ez_setup-0.9-py3-none-any.whl size=11065 sha256=3962c8344ea3c5dae238bbe4b68a24bff6e2b3fd97d80f10cbd4c8a2b7bdcf08\n",
      "  Stored in directory: C:\\Users\\aswin\\AppData\\Local\\Temp\\pip-ephem-wheel-cache-28ct1hl4\\wheels\\79\\ee\\40\\e60d004411bb88cb07f4bd41fbbed848848b16bd20bd913d8f\n",
      "Successfully built ez_setup\n",
      "Installing collected packages: ez_setup\n",
      "Successfully installed ez_setup-0.9\n"
     ]
    }
   ],
   "source": [
    "!pip install ez_setup"
   ]
  },
  {
   "cell_type": "code",
   "execution_count": 9,
   "id": "7ec680a4-29a2-4bb2-8b79-e8e0621e8a5a",
   "metadata": {},
   "outputs": [
    {
     "name": "stdout",
     "output_type": "stream",
     "text": [
      "C:\\Users\\aswin\\OneDrive\\Desktop\\lstm+ddpg\\FinRL-Library\n"
     ]
    },
    {
     "name": "stderr",
     "output_type": "stream",
     "text": [
      "'sed' is not recognized as an internal or external command,\n",
      "operable program or batch file.\n"
     ]
    },
    {
     "name": "stdout",
     "output_type": "stream",
     "text": [
      "Looking in indexes: https://pypi.org/simple, https://pypi.ngc.nvidia.com\n",
      "Collecting alpaca-py (from -r requirements.txt (line 1))\n",
      "  Downloading alpaca_py-0.39.1-py3-none-any.whl.metadata (13 kB)\n",
      "Requirement already satisfied: alpaca_trade_api>=2.1.0 in c:\\users\\aswin\\anaconda3\\lib\\site-packages (from -r requirements.txt (line 2)) (3.2.0)\n",
      "Collecting ccxt>=1.66.32 (from -r requirements.txt (line 3))\n",
      "  Downloading ccxt-4.4.70-py2.py3-none-any.whl.metadata (131 kB)\n",
      "Collecting elegantrl (from -r requirements.txt (line 4))\n",
      "  Downloading elegantrl-0.3.6.tar.gz (168 kB)\n",
      "  Preparing metadata (setup.py): started\n",
      "  Preparing metadata (setup.py): finished with status 'done'\n",
      "Collecting gputil (from -r requirements.txt (line 6))\n",
      "  Downloading GPUtil-1.4.0.tar.gz (5.5 kB)\n",
      "  Preparing metadata (setup.py): started\n",
      "  Preparing metadata (setup.py): finished with status 'done'\n",
      "Requirement already satisfied: gymnasium in c:\\users\\aswin\\anaconda3\\lib\\site-packages (from -r requirements.txt (line 7)) (1.0.0)\n",
      "Collecting importlib-metadata==4.13.0 (from -r requirements.txt (line 8))\n",
      "  Downloading importlib_metadata-4.13.0-py3-none-any.whl.metadata (4.9 kB)\n",
      "Requirement already satisfied: lz4 in c:\\users\\aswin\\anaconda3\\lib\\site-packages (from -r requirements.txt (line 10)) (4.3.2)\n",
      "Requirement already satisfied: matplotlib in c:\\users\\aswin\\anaconda3\\lib\\site-packages (from -r requirements.txt (line 12)) (3.9.2)\n",
      "Requirement already satisfied: numpy>=1.17.3 in c:\\users\\aswin\\anaconda3\\lib\\site-packages (from -r requirements.txt (line 14)) (1.26.4)\n",
      "Requirement already satisfied: pandas>=1.1.5 in c:\\users\\aswin\\anaconda3\\lib\\site-packages (from -r requirements.txt (line 15)) (2.2.3)\n",
      "Collecting pandas_market_calendars (from -r requirements.txt (line 16))\n",
      "  Downloading pandas_market_calendars-4.6.1-py3-none-any.whl.metadata (9.5 kB)\n",
      "Collecting pre-commit (from -r requirements.txt (line 19))\n",
      "  Downloading pre_commit-4.2.0-py2.py3-none-any.whl.metadata (1.3 kB)\n",
      "Collecting pyfolio (from -r requirements.txt (line 20))\n",
      "  Downloading pyfolio-0.9.2.tar.gz (91 kB)\n",
      "  Preparing metadata (setup.py): started\n",
      "  Preparing metadata (setup.py): finished with status 'error'\n"
     ]
    },
    {
     "name": "stderr",
     "output_type": "stream",
     "text": [
      "  error: subprocess-exited-with-error\n",
      "  \n",
      "  python setup.py egg_info did not run successfully.\n",
      "  exit code: 1\n",
      "  \n",
      "  [18 lines of output]\n",
      "  C:\\Users\\aswin\\AppData\\Local\\Temp\\pip-install-qyudkq9b\\pyfolio_0cc0114bb5334eceb5e0a85eb1850425\\versioneer.py:468: SyntaxWarning: invalid escape sequence '\\s'\n",
      "    LONG_VERSION_PY['git'] = '''\n",
      "  Traceback (most recent call last):\n",
      "    File \"<string>\", line 2, in <module>\n",
      "    File \"<pip-setuptools-caller>\", line 34, in <module>\n",
      "    File \"C:\\Users\\aswin\\AppData\\Local\\Temp\\pip-install-qyudkq9b\\pyfolio_0cc0114bb5334eceb5e0a85eb1850425\\setup.py\", line 71, in <module>\n",
      "      version=versioneer.get_version(),\n",
      "              ^^^^^^^^^^^^^^^^^^^^^^^^\n",
      "    File \"C:\\Users\\aswin\\AppData\\Local\\Temp\\pip-install-qyudkq9b\\pyfolio_0cc0114bb5334eceb5e0a85eb1850425\\versioneer.py\", line 1407, in get_version\n",
      "      return get_versions()[\"version\"]\n",
      "             ^^^^^^^^^^^^^^\n",
      "    File \"C:\\Users\\aswin\\AppData\\Local\\Temp\\pip-install-qyudkq9b\\pyfolio_0cc0114bb5334eceb5e0a85eb1850425\\versioneer.py\", line 1341, in get_versions\n",
      "      cfg = get_config_from_root(root)\n",
      "            ^^^^^^^^^^^^^^^^^^^^^^^^^^\n",
      "    File \"C:\\Users\\aswin\\AppData\\Local\\Temp\\pip-install-qyudkq9b\\pyfolio_0cc0114bb5334eceb5e0a85eb1850425\\versioneer.py\", line 399, in get_config_from_root\n",
      "      parser = configparser.SafeConfigParser()\n",
      "               ^^^^^^^^^^^^^^^^^^^^^^^^^^^^^\n",
      "  AttributeError: module 'configparser' has no attribute 'SafeConfigParser'. Did you mean: 'RawConfigParser'?\n",
      "  [end of output]\n",
      "  \n",
      "  note: This error originates from a subprocess, and is likely not a problem with pip.\n",
      "error: metadata-generation-failed\n",
      "\n",
      "Encountered error while generating package metadata.\n",
      "\n",
      "See above for output.\n",
      "\n",
      "note: This is an issue with the package mentioned above, not pip.\n",
      "hint: See above for details.\n"
     ]
    }
   ],
   "source": [
    "# Navigate to the directory\n",
    "%cd C:/Users/aswin/OneDrive/Desktop/lstm+ddpg/FinRL-Library\n",
    "\n",
    "# Modify versioneer.py to use ConfigParser\n",
    "!sed -i 's/SafeConfigParser/ConfigParser/' versioneer.py\n",
    "\n",
    "# Install dependencies\n",
    "!pip install -r requirements.txt"
   ]
  },
  {
   "cell_type": "code",
   "execution_count": null,
   "id": "0b6ccfb5-0a66-42c4-8648-e46fd781087e",
   "metadata": {},
   "outputs": [],
   "source": [
    "!conda install -c conda-forge ta-lib"
   ]
  },
  {
   "cell_type": "code",
   "execution_count": 34,
   "id": "0840951b-f3c2-4512-ad9c-991fc15ebcf7",
   "metadata": {},
   "outputs": [
    {
     "ename": "ImportError",
     "evalue": "cannot import name 'config' from 'finrl.config' (C:\\Users\\aswin\\anaconda3\\envs\\finrl_env\\lib\\site-packages\\finrl\\config.py)",
     "output_type": "error",
     "traceback": [
      "\u001b[1;31m---------------------------------------------------------------------------\u001b[0m",
      "\u001b[1;31mImportError\u001b[0m                               Traceback (most recent call last)",
      "Cell \u001b[1;32mIn[34], line 8\u001b[0m\n\u001b[0;32m      4\u001b[0m \u001b[38;5;28;01mimport\u001b[39;00m \u001b[38;5;21;01mdatetime\u001b[39;00m\n\u001b[0;32m      6\u001b[0m get_ipython()\u001b[38;5;241m.\u001b[39mrun_line_magic(\u001b[38;5;124m'\u001b[39m\u001b[38;5;124mmatplotlib\u001b[39m\u001b[38;5;124m'\u001b[39m, \u001b[38;5;124m'\u001b[39m\u001b[38;5;124minline\u001b[39m\u001b[38;5;124m'\u001b[39m)\n\u001b[1;32m----> 8\u001b[0m \u001b[38;5;28;01mfrom\u001b[39;00m \u001b[38;5;21;01mfinrl\u001b[39;00m\u001b[38;5;21;01m.\u001b[39;00m\u001b[38;5;21;01mconfig\u001b[39;00m \u001b[38;5;28;01mimport\u001b[39;00m config\n\u001b[0;32m      9\u001b[0m \u001b[38;5;28;01mfrom\u001b[39;00m \u001b[38;5;21;01mfinrl\u001b[39;00m\u001b[38;5;21;01m.\u001b[39;00m\u001b[38;5;21;01mpreprocessor\u001b[39;00m\u001b[38;5;21;01m.\u001b[39;00m\u001b[38;5;21;01myahoodownloader\u001b[39;00m \u001b[38;5;28;01mimport\u001b[39;00m YahooDownloader\n\u001b[0;32m     10\u001b[0m \u001b[38;5;28;01mfrom\u001b[39;00m \u001b[38;5;21;01mfinrl\u001b[39;00m\u001b[38;5;21;01m.\u001b[39;00m\u001b[38;5;21;01mpreprocessor\u001b[39;00m\u001b[38;5;21;01m.\u001b[39;00m\u001b[38;5;21;01mpreprocessors\u001b[39;00m \u001b[38;5;28;01mimport\u001b[39;00m FeatureEngineer, data_split\n",
      "\u001b[1;31mImportError\u001b[0m: cannot import name 'config' from 'finrl.config' (C:\\Users\\aswin\\anaconda3\\envs\\finrl_env\\lib\\site-packages\\finrl\\config.py)"
     ]
    }
   ],
   "source": [
    "import pandas as pd\n",
    "import numpy as np\n",
    "import matplotlib.pyplot as plt\n",
    "import datetime\n",
    "\n",
    "%matplotlib inline\n",
    "\n",
    "from finrl.config import config\n",
    "from finrl.preprocessor.yahoodownloader import YahooDownloader\n",
    "from finrl.preprocessor.preprocessors import FeatureEngineer, data_split\n",
    "from finrl.env.env_stocktrading import StockTradingEnv\n",
    "from finrl.drl_agents.stablebaselines3.models import DRLAgent\n",
    "from finrl.plot import backtest_stats, backtest_plot, get_daily_return, get_baseline\n",
    "\n",
    "# Download data\n",
    "df = YahooDownloader(start_date=\"2010-01-01\", end_date=\"2021-01-01\", ticker_list=config.DOW_30_TICKER).fetch_data()\n",
    "\n",
    "# Feature engineering\n",
    "fe = FeatureEngineer(use_technical_indicator=True, tech_indicator_list=config.TECHNICAL_INDICATORS_LIST)\n",
    "df = fe.preprocess_data(df)\n",
    "\n",
    "# Split data\n",
    "train_data, test_data = data_split(df, start_date=\"2010-01-01\", end_date=\"2020-01-01\")\n",
    "\n",
    "# Print sample data\n",
    "print(train_data.head())"
   ]
  },
  {
   "cell_type": "code",
   "execution_count": null,
   "id": "063b6450-0080-4a67-9be2-1267031768eb",
   "metadata": {},
   "outputs": [],
   "source": []
  }
 ],
 "metadata": {
  "kernelspec": {
   "display_name": "Python (finrl_env)",
   "language": "python",
   "name": "finrl_env"
  },
  "language_info": {
   "codemirror_mode": {
    "name": "ipython",
    "version": 3
   },
   "file_extension": ".py",
   "mimetype": "text/x-python",
   "name": "python",
   "nbconvert_exporter": "python",
   "pygments_lexer": "ipython3",
   "version": "3.8.20"
  }
 },
 "nbformat": 4,
 "nbformat_minor": 5
}
